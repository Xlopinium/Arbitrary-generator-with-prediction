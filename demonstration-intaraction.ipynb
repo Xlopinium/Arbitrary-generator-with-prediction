{
 "cells": [
  {
   "cell_type": "code",
   "execution_count": 9,
   "id": "a7925245-b195-4f3d-9e9a-18d03fcdaaea",
   "metadata": {
    "tags": []
   },
   "outputs": [
    {
     "data": {
      "application/vnd.jupyter.widget-view+json": {
       "model_id": "d3bac67105744b7c8babc785c0a684ce",
       "version_major": 2,
       "version_minor": 0
      },
      "text/plain": [
       "VBox(children=(FloatSlider(value=1.0, description='Amplitude:', max=5.0), FloatSlider(value=1.0, description='…"
      ]
     },
     "metadata": {},
     "output_type": "display_data"
    }
   ],
   "source": [
    "import numpy as np\n",
    "import tensorflow as tf\n",
    "import matplotlib.pyplot as plt\n",
    "from scipy.signal import argrelextrema\n",
    "import ipywidgets as widgets\n",
    "from IPython.display import display, clear_output\n",
    "\n",
    "# Generating arbitrary data\n",
    "def generate_data(amplitude, frequency):\n",
    "    x = np.arange(0, 10, 0.1)\n",
    "    y = amplitude * np.sin(frequency * x)\n",
    "    return x, y\n",
    "\n",
    "# Creating a neural network model\n",
    "def create_model():\n",
    "    model = tf.keras.Sequential([\n",
    "      tf.keras.layers.Dense(10, activation='relu', input_shape=(1,)),\n",
    "      tf.keras.layers.Dense(1)\n",
    "    ])\n",
    "    model.compile(optimizer='adam', loss='mse')\n",
    "    return model\n",
    "\n",
    "# Plotting a graph\n",
    "def plot_graph(x, y, y_pred, extremums_x, extremums_y, extremums_y_pred, min_x, min_y, min_y_pred):\n",
    "    plt.plot(x, y, label='True function')\n",
    "    plt.plot(x, y_pred, label='Predicted function')\n",
    "    plt.plot(extremums_x, extremums_y, 'ro', label='Extremums')\n",
    "    plt.plot(extremums_x, extremums_y_pred, 'g^', label='Predicted extremums')\n",
    "    plt.plot(min_x, min_y_pred, 'go', label='Predictions at extrema')\n",
    "    plt.plot(min_x, min_y, 'ko', label='Extrema')\n",
    "    plt.legend()\n",
    "    plt.show()\n",
    "\n",
    "def run_generation(amplitude, frequency):\n",
    "    # Generating data\n",
    "    x, y = generate_data(amplitude, frequency)\n",
    "\n",
    "    # Search min\n",
    "    min_idx = argrelextrema(y, np.less)[0]\n",
    "    min_x = x[min_idx]\n",
    "    min_y = y[min_idx]\n",
    "\n",
    "    # Creating a neural network model\n",
    "    model = create_model()\n",
    "\n",
    "    # Train the model on the data\n",
    "    model.fit(x, y, epochs=100)\n",
    "\n",
    "    # Predicting values on the same data\n",
    "    min_y_pred = model.predict(min_x)\n",
    "    y_pred = model.predict(x)\n",
    "\n",
    "    # Search point extrema\n",
    "    extremums_idx = argrelextrema(y, np.greater)[0]\n",
    "    extremums_x = x[extremums_idx]\n",
    "    extremums_y = y[extremums_idx]\n",
    "\n",
    "    # Predic val on extrema point\n",
    "    extremums_y_pred = model.predict(extremums_x)\n",
    "\n",
    "    # Plot the graph\n",
    "    plot_graph(x, y, y_pred, extremums_x, extremums_y, extremums_y_pred, min_x, min_y, min_y_pred)\n",
    "\n",
    "# Create widgets for input\n",
    "amplitude_widget = widgets.FloatSlider(value=1.0, min=0.0, max=5.0, step=0.1, description='Amplitude:')\n",
    "frequency_widget = widgets.FloatSlider(value=1.0, min=0.0, max=5.0, step=0.1, description='Frequency:')\n",
    "button_widget = widgets.Button(description='Generate')\n",
    "\n",
    "# Define the function to run on button click\n",
    "def on_button_click(button):\n",
    "    amplitude = amplitude_widget.value\n",
    "    frequency = frequency_widget.value\n",
    "    display.clear_output(wait=True)\n",
    "    run_generation(amplitude, frequency)\n",
    "\n",
    "# Attach the button click function to the button\n",
    "button_widget.on_click(on_button_click)\n",
    "\n",
    "# Display the widgets and button\n",
    "display(widgets.VBox([amplitude_widget, frequency_widget, button_widget]))"
   ]
  },
  {
   "cell_type": "code",
   "execution_count": null,
   "id": "8d02f3cf-6032-4f39-8f5d-22b11bee4a60",
   "metadata": {},
   "outputs": [],
   "source": []
  }
 ],
 "metadata": {
  "kernelspec": {
   "display_name": "Python 3 (ipykernel)",
   "language": "python",
   "name": "python3"
  },
  "language_info": {
   "codemirror_mode": {
    "name": "ipython",
    "version": 3
   },
   "file_extension": ".py",
   "mimetype": "text/x-python",
   "name": "python",
   "nbconvert_exporter": "python",
   "pygments_lexer": "ipython3",
   "version": "3.9.13"
  }
 },
 "nbformat": 4,
 "nbformat_minor": 5
}
